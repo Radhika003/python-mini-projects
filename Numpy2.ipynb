{
  "nbformat": 4,
  "nbformat_minor": 0,
  "metadata": {
    "colab": {
      "provenance": [],
      "include_colab_link": true
    },
    "kernelspec": {
      "name": "python3",
      "display_name": "Python 3"
    },
    "language_info": {
      "name": "python"
    }
  },
  "cells": [
    {
      "cell_type": "markdown",
      "metadata": {
        "id": "view-in-github",
        "colab_type": "text"
      },
      "source": [
        "<a href=\"https://colab.research.google.com/github/Radhika003/python-mini-projects/blob/main/Numpy2.ipynb\" target=\"_parent\"><img src=\"https://colab.research.google.com/assets/colab-badge.svg\" alt=\"Open In Colab\"/></a>"
      ]
    },
    {
      "cell_type": "code",
      "execution_count": 2,
      "metadata": {
        "id": "_1IV_uOk3IXM"
      },
      "outputs": [],
      "source": [
        "import numpy as np"
      ]
    },
    {
      "cell_type": "code",
      "source": [
        "#Recap\n",
        "arr = np.array([[1,2,3],[4,5,6]])"
      ],
      "metadata": {
        "id": "61E7cfQq3QIz"
      },
      "execution_count": 3,
      "outputs": []
    },
    {
      "cell_type": "code",
      "source": [
        "type(arr)"
      ],
      "metadata": {
        "colab": {
          "base_uri": "https://localhost:8080/"
        },
        "id": "fYlmTC337FXU",
        "outputId": "4ce5d581-d4dd-4aac-f687-889a3cf5f02b"
      },
      "execution_count": 4,
      "outputs": [
        {
          "output_type": "execute_result",
          "data": {
            "text/plain": [
              "numpy.ndarray"
            ]
          },
          "metadata": {},
          "execution_count": 4
        }
      ]
    },
    {
      "cell_type": "code",
      "source": [
        "arr1=np.random.randint(1,2,(3,1))"
      ],
      "metadata": {
        "id": "i3N1pg6I7JUm"
      },
      "execution_count": 5,
      "outputs": []
    },
    {
      "cell_type": "code",
      "source": [
        "arr.shape"
      ],
      "metadata": {
        "colab": {
          "base_uri": "https://localhost:8080/"
        },
        "id": "Hhnz3u9O7hqK",
        "outputId": "57f767d6-9500-49b5-bfe3-36dd2d17e7d3"
      },
      "execution_count": 6,
      "outputs": [
        {
          "output_type": "execute_result",
          "data": {
            "text/plain": [
              "(2, 3)"
            ]
          },
          "metadata": {},
          "execution_count": 6
        }
      ]
    },
    {
      "cell_type": "code",
      "source": [
        "arr1.shape"
      ],
      "metadata": {
        "colab": {
          "base_uri": "https://localhost:8080/"
        },
        "id": "GiWtFoRa7lna",
        "outputId": "f361dbf1-e153-4e77-9648-4f6be8dbe44b"
      },
      "execution_count": 7,
      "outputs": [
        {
          "output_type": "execute_result",
          "data": {
            "text/plain": [
              "(3, 1)"
            ]
          },
          "metadata": {},
          "execution_count": 7
        }
      ]
    },
    {
      "cell_type": "code",
      "source": [
        "result=np.dot(arr,arr1)"
      ],
      "metadata": {
        "id": "VxZMzU3_7qPT"
      },
      "execution_count": 8,
      "outputs": []
    },
    {
      "cell_type": "code",
      "source": [
        "print(result)"
      ],
      "metadata": {
        "colab": {
          "base_uri": "https://localhost:8080/"
        },
        "id": "qXRDkscu71NE",
        "outputId": "4cb63250-260f-468b-9d43-3c58056de3ad"
      },
      "execution_count": 9,
      "outputs": [
        {
          "output_type": "stream",
          "name": "stdout",
          "text": [
            "[[ 6]\n",
            " [15]]\n"
          ]
        }
      ]
    },
    {
      "cell_type": "code",
      "source": [
        "r1=np.random.randint(10,20,(3,3))\n",
        "print(r1)"
      ],
      "metadata": {
        "colab": {
          "base_uri": "https://localhost:8080/"
        },
        "id": "wjBVm6Zt74yT",
        "outputId": "2a635d1c-151e-42df-ac54-0e59c8990b50"
      },
      "execution_count": 10,
      "outputs": [
        {
          "output_type": "stream",
          "name": "stdout",
          "text": [
            "[[17 19 19]\n",
            " [13 12 15]\n",
            " [13 14 19]]\n"
          ]
        }
      ]
    },
    {
      "cell_type": "code",
      "source": [
        "r2=np.eye(3)\n",
        "print(r2)"
      ],
      "metadata": {
        "colab": {
          "base_uri": "https://localhost:8080/"
        },
        "id": "4kb4V-T_8WIp",
        "outputId": "5a5eab96-5cff-4876-917f-7973676f02bc"
      },
      "execution_count": 11,
      "outputs": [
        {
          "output_type": "stream",
          "name": "stdout",
          "text": [
            "[[1. 0. 0.]\n",
            " [0. 1. 0.]\n",
            " [0. 0. 1.]]\n"
          ]
        }
      ]
    },
    {
      "cell_type": "code",
      "source": [
        "# r1 = I\n",
        "result2=np.dot(r1,r2)"
      ],
      "metadata": {
        "id": "i6TiWy518ysO"
      },
      "execution_count": 12,
      "outputs": []
    },
    {
      "cell_type": "code",
      "source": [
        "print(result2)"
      ],
      "metadata": {
        "colab": {
          "base_uri": "https://localhost:8080/"
        },
        "id": "AU8DGy2R89ov",
        "outputId": "7e2d562c-9b76-4cd7-fc43-90cdb8abcc50"
      },
      "execution_count": 13,
      "outputs": [
        {
          "output_type": "stream",
          "name": "stdout",
          "text": [
            "[[17. 19. 19.]\n",
            " [13. 12. 15.]\n",
            " [13. 14. 19.]]\n"
          ]
        }
      ]
    },
    {
      "cell_type": "code",
      "source": [
        "t1=np.random.randint(3,6,(3,3))\n",
        "t2=np.random.randint(3,6,(3,3))"
      ],
      "metadata": {
        "id": "RnV7sMqPF1Wl"
      },
      "execution_count": 14,
      "outputs": []
    },
    {
      "cell_type": "code",
      "source": [
        "print(t1)\n",
        "print(t2)"
      ],
      "metadata": {
        "id": "75Ba1ClVIOJJ",
        "outputId": "3a12ec60-2112-4cd8-d101-209e113f2c7a",
        "colab": {
          "base_uri": "https://localhost:8080/"
        }
      },
      "execution_count": 15,
      "outputs": [
        {
          "output_type": "stream",
          "name": "stdout",
          "text": [
            "[[5 3 4]\n",
            " [3 4 4]\n",
            " [5 3 5]]\n",
            "[[4 3 3]\n",
            " [4 5 5]\n",
            " [3 5 5]]\n"
          ]
        }
      ]
    },
    {
      "cell_type": "code",
      "source": [
        "t3=t1+t2"
      ],
      "metadata": {
        "id": "4FeS6_4oISPz"
      },
      "execution_count": 16,
      "outputs": []
    },
    {
      "cell_type": "code",
      "source": [
        "print(t3)"
      ],
      "metadata": {
        "id": "q-Upn14hIX2D",
        "outputId": "d9af8374-db43-4638-c9d0-ee21416f3257",
        "colab": {
          "base_uri": "https://localhost:8080/"
        }
      },
      "execution_count": 17,
      "outputs": [
        {
          "output_type": "stream",
          "name": "stdout",
          "text": [
            "[[ 9  6  7]\n",
            " [ 7  9  9]\n",
            " [ 8  8 10]]\n"
          ]
        }
      ]
    },
    {
      "cell_type": "code",
      "source": [
        "#Matrix multiplication\n",
        "result=np.dot(arr,arr1)"
      ],
      "metadata": {
        "id": "ESfrGHkfIdeo"
      },
      "execution_count": 18,
      "outputs": []
    },
    {
      "cell_type": "code",
      "source": [
        "#statistical operations\n",
        "mean=t3.mean()\n",
        "mode=t3.max()\n",
        "median=np.median(t3)\n",
        "std=np.std(t3)\n",
        "var=np.var(t3)"
      ],
      "metadata": {
        "id": "BLx3qr-HIhgr"
      },
      "execution_count": 19,
      "outputs": []
    },
    {
      "cell_type": "code",
      "source": [
        "print(mean)"
      ],
      "metadata": {
        "id": "agzAajZnIy0H",
        "outputId": "9dbb479b-4ee0-419a-fe1b-9bd84eae2b0c",
        "colab": {
          "base_uri": "https://localhost:8080/"
        }
      },
      "execution_count": 20,
      "outputs": [
        {
          "output_type": "stream",
          "name": "stdout",
          "text": [
            "8.11111111111111\n"
          ]
        }
      ]
    },
    {
      "cell_type": "code",
      "source": [
        "print(mode)"
      ],
      "metadata": {
        "id": "AxW3UScHI3xg",
        "outputId": "513ac7ad-b033-44a8-e110-d2812af70faf",
        "colab": {
          "base_uri": "https://localhost:8080/"
        }
      },
      "execution_count": 21,
      "outputs": [
        {
          "output_type": "stream",
          "name": "stdout",
          "text": [
            "10\n"
          ]
        }
      ]
    },
    {
      "cell_type": "code",
      "source": [
        "print(median)"
      ],
      "metadata": {
        "id": "kiVLOgzZI6Mu",
        "outputId": "d5ca247d-6f41-4829-86ee-ec19178feb92",
        "colab": {
          "base_uri": "https://localhost:8080/"
        }
      },
      "execution_count": 22,
      "outputs": [
        {
          "output_type": "stream",
          "name": "stdout",
          "text": [
            "8.0\n"
          ]
        }
      ]
    },
    {
      "cell_type": "code",
      "source": [
        "print(std)"
      ],
      "metadata": {
        "id": "IWGdvBCYI9ni",
        "outputId": "9f7ebea0-fde8-40f2-820a-5995f52e3afb",
        "colab": {
          "base_uri": "https://localhost:8080/"
        }
      },
      "execution_count": 23,
      "outputs": [
        {
          "output_type": "stream",
          "name": "stdout",
          "text": [
            "1.1967032904743342\n"
          ]
        }
      ]
    },
    {
      "cell_type": "code",
      "source": [
        "print(var)"
      ],
      "metadata": {
        "id": "YKKvppCcJAPU",
        "outputId": "37e8d1c6-5357-4d02-c193-a7f7671a8d6f",
        "colab": {
          "base_uri": "https://localhost:8080/"
        }
      },
      "execution_count": 24,
      "outputs": [
        {
          "output_type": "stream",
          "name": "stdout",
          "text": [
            "1.432098765432099\n"
          ]
        }
      ]
    },
    {
      "cell_type": "code",
      "source": [
        "#Trigonomentry functions\n",
        "# sin(x)\n",
        "#cos(x)\n",
        "#Tan(x)-sin(x)/cos(x)\n",
        "#cosec-1/sin(x)\n",
        "#sec-1/cos(x)\n",
        "#cot-1/tan(x)\n",
        "angles=np.array([0,15,30,45,60,75,90])\n",
        "# sin(array)\n",
        "result=np.sin(np.radians(angles))\n",
        "result1=np.cos(np.radians(angles))\n",
        "result2=np.tan(np.radians(angles))"
      ],
      "metadata": {
        "id": "lozX5yd4JEBX"
      },
      "execution_count": 25,
      "outputs": []
    },
    {
      "cell_type": "code",
      "source": [
        "print(result)\n",
        "print(result1)\n",
        "print(result2)"
      ],
      "metadata": {
        "id": "Rtgj6zW6JHWW",
        "outputId": "b0b4943d-7062-455a-988b-4d35155e362f",
        "colab": {
          "base_uri": "https://localhost:8080/"
        }
      },
      "execution_count": 26,
      "outputs": [
        {
          "output_type": "stream",
          "name": "stdout",
          "text": [
            "[0.         0.25881905 0.5        0.70710678 0.8660254  0.96592583\n",
            " 1.        ]\n",
            "[1.00000000e+00 9.65925826e-01 8.66025404e-01 7.07106781e-01\n",
            " 5.00000000e-01 2.58819045e-01 6.12323400e-17]\n",
            "[0.00000000e+00 2.67949192e-01 5.77350269e-01 1.00000000e+00\n",
            " 1.73205081e+00 3.73205081e+00 1.63312394e+16]\n"
          ]
        }
      ]
    },
    {
      "cell_type": "code",
      "source": [
        "arr=np.array([1,2,3,4,5,6])\n",
        "#reshape the array\n",
        "reshapedarr=arr.reshape(3,2)\n",
        "print(reshapedarr)\n",
        "flattendarr=arr.flatten()\n",
        "print(flattendarr)"
      ],
      "metadata": {
        "id": "5C5JbmzDJKij",
        "outputId": "1458a83d-cfe6-493f-ac57-dce905177e81",
        "colab": {
          "base_uri": "https://localhost:8080/"
        }
      },
      "execution_count": 27,
      "outputs": [
        {
          "output_type": "stream",
          "name": "stdout",
          "text": [
            "[[1 2]\n",
            " [3 4]\n",
            " [5 6]]\n",
            "[1 2 3 4 5 6]\n"
          ]
        }
      ]
    },
    {
      "cell_type": "code",
      "source": [
        "arr1=np.array([1,2,3,4])\n",
        "arr2=np.array([10,20,30,40])\n",
        "arr3=np.vstack((arr1,arr2))\n",
        "print(f\"The shape of arr3 is{arr3.shape}\")\n",
        "#Horizantal Array\n",
        "arr4=np.hstack((arr1,arr2))\n",
        "print(f\"The shape of arr4 is{arr4.shape}\")\n",
        "print(arr4)"
      ],
      "metadata": {
        "id": "rz6hRiabJOTt",
        "outputId": "012393af-39cf-445f-ac45-5f53914571a3",
        "colab": {
          "base_uri": "https://localhost:8080/"
        }
      },
      "execution_count": 28,
      "outputs": [
        {
          "output_type": "stream",
          "name": "stdout",
          "text": [
            "The shape of arr3 is(2, 4)\n",
            "The shape of arr4 is(8,)\n",
            "[ 1  2  3  4 10 20 30 40]\n"
          ]
        }
      ]
    },
    {
      "cell_type": "code",
      "source": [
        "#Filtering\n",
        "arr=np.array([10,20,30,40,50,60,70,80])\n",
        "farr=arr[arr>40]\n",
        "print(farr)"
      ],
      "metadata": {
        "id": "J0TXpT-yJYps",
        "outputId": "01c5e2f4-29c0-4068-d13e-cae6f408d572",
        "colab": {
          "base_uri": "https://localhost:8080/"
        }
      },
      "execution_count": 29,
      "outputs": [
        {
          "output_type": "stream",
          "name": "stdout",
          "text": [
            "[50 60 70 80]\n"
          ]
        }
      ]
    }
  ]
}