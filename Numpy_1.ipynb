{
  "nbformat": 4,
  "nbformat_minor": 0,
  "metadata": {
    "colab": {
      "provenance": [],
      "authorship_tag": "ABX9TyNVM/krw3DdfT8stZ3Rt1Gs",
      "include_colab_link": true
    },
    "kernelspec": {
      "name": "python3",
      "display_name": "Python 3"
    },
    "language_info": {
      "name": "python"
    }
  },
  "cells": [
    {
      "cell_type": "markdown",
      "metadata": {
        "id": "view-in-github",
        "colab_type": "text"
      },
      "source": [
        "<a href=\"https://colab.research.google.com/github/Radhika003/python-mini-projects/blob/main/Numpy_1.ipynb\" target=\"_parent\"><img src=\"https://colab.research.google.com/assets/colab-badge.svg\" alt=\"Open In Colab\"/></a>"
      ]
    },
    {
      "cell_type": "code",
      "execution_count": 49,
      "metadata": {
        "id": "_j09L2NjtjeG"
      },
      "outputs": [],
      "source": [
        "#Numpy-Numaric python\n",
        "#speed(numpy operations)>speed(list opretion)\n",
        "#size(numpy operations)>size(list opretion)\n",
        "#Memory optimization(Numpy)>Memory Optimisation (List operations)"
      ]
    },
    {
      "cell_type": "code",
      "source": [
        "#Install numpy-pip3 install numpy"
      ],
      "metadata": {
        "id": "Ap9Lyulgv1pU"
      },
      "execution_count": 22,
      "outputs": []
    },
    {
      "cell_type": "code",
      "source": [
        "import numpy as np"
      ],
      "metadata": {
        "id": "X_nrLdbzwEWK"
      },
      "execution_count": 23,
      "outputs": []
    },
    {
      "cell_type": "code",
      "source": [
        "#create a numpy array\n",
        "#1D array\n",
        "arr1D=np.array([1,2,3,4,5])\n",
        "print(arr1D)"
      ],
      "metadata": {
        "colab": {
          "base_uri": "https://localhost:8080/"
        },
        "id": "JraB9EhBwI0-",
        "outputId": "c8a44def-c87c-4fd6-a406-3cef9a58e5c8"
      },
      "execution_count": 24,
      "outputs": [
        {
          "output_type": "stream",
          "name": "stdout",
          "text": [
            "[1 2 3 4 5]\n"
          ]
        }
      ]
    },
    {
      "cell_type": "code",
      "source": [
        "#Create 2D array-Matrix\n",
        "arr2D=np.array([\n",
        "    [1,2,3],[4,5,6]\n",
        "])\n",
        "print(arr2D)"
      ],
      "metadata": {
        "colab": {
          "base_uri": "https://localhost:8080/"
        },
        "id": "IpE3yVF-wyXS",
        "outputId": "b3b6c918-e777-4c4c-dbe8-178238e763c3"
      },
      "execution_count": 25,
      "outputs": [
        {
          "output_type": "stream",
          "name": "stdout",
          "text": [
            "[[1 2 3]\n",
            " [4 5 6]]\n"
          ]
        }
      ]
    },
    {
      "cell_type": "code",
      "source": [
        "allOnes=np.ones((2,3))\n",
        "print(allOnes)"
      ],
      "metadata": {
        "colab": {
          "base_uri": "https://localhost:8080/"
        },
        "id": "o_4RTPXvzJOl",
        "outputId": "991a76b0-517b-4ad0-ea2e-ae65fd2d778c"
      },
      "execution_count": 26,
      "outputs": [
        {
          "output_type": "stream",
          "name": "stdout",
          "text": [
            "[[1. 1. 1.]\n",
            " [1. 1. 1.]]\n"
          ]
        }
      ]
    },
    {
      "cell_type": "code",
      "source": [
        "allConstant=np.full((2,3),6)\n",
        "print(allConstant)"
      ],
      "metadata": {
        "colab": {
          "base_uri": "https://localhost:8080/"
        },
        "id": "VUTIpys5z7pY",
        "outputId": "26995fae-35e9-40aa-c7d6-8c62f528e115"
      },
      "execution_count": 27,
      "outputs": [
        {
          "output_type": "stream",
          "name": "stdout",
          "text": [
            "[[6 6 6]\n",
            " [6 6 6]]\n"
          ]
        }
      ]
    },
    {
      "cell_type": "code",
      "source": [
        "\n",
        "allZeros=np.zeros((2,3))\n",
        "print(allZeros)"
      ],
      "metadata": {
        "colab": {
          "base_uri": "https://localhost:8080/"
        },
        "id": "93IAmhgm0P22",
        "outputId": "697e3be2-4562-4d4e-8890-b7ff6317c0fb"
      },
      "execution_count": 28,
      "outputs": [
        {
          "output_type": "stream",
          "name": "stdout",
          "text": [
            "[[0. 0. 0.]\n",
            " [0. 0. 0.]]\n"
          ]
        }
      ]
    },
    {
      "cell_type": "code",
      "source": [
        "#create an identify matrix-1\n",
        "identity=np.eye(4)\n",
        "print(identity)\n",
        "\n",
        "#Identity matrix-Aij=1&&Aij=0\n",
        "# For all A belongs to R M*N\n",
        "#Aij-"
      ],
      "metadata": {
        "colab": {
          "base_uri": "https://localhost:8080/"
        },
        "id": "YZA-NATW0wB1",
        "outputId": "4cb3fe95-51cd-4e73-bbf2-de8d2cb114c5"
      },
      "execution_count": 14,
      "outputs": [
        {
          "output_type": "stream",
          "name": "stdout",
          "text": [
            "[[1. 0. 0. 0.]\n",
            " [0. 1. 0. 0.]\n",
            " [0. 0. 1. 0.]\n",
            " [0. 0. 0. 1.]]\n"
          ]
        }
      ]
    },
    {
      "cell_type": "code",
      "source": [
        "#Creating a random Matrices\n",
        "\n",
        "#with 0and1\n",
        "rand1=np.random.rand(3,3)\n",
        "print(rand1)\n",
        "#between a and b\n",
        "rand2=np.random.randint(10,20,(3,3))\n",
        "print(rand2)"
      ],
      "metadata": {
        "colab": {
          "base_uri": "https://localhost:8080/"
        },
        "id": "oHIlzmL91Boz",
        "outputId": "c61e62a7-f74f-4b01-fa26-f1b643dcd7d4"
      },
      "execution_count": 30,
      "outputs": [
        {
          "output_type": "stream",
          "name": "stdout",
          "text": [
            "[[0.28380531 0.20832581 0.31601321]\n",
            " [0.71127244 0.89200812 0.67524014]\n",
            " [0.05334969 0.76495363 0.6580454 ]]\n",
            "[[16 16 17]\n",
            " [14 18 12]\n",
            " [19 18 10]]\n"
          ]
        }
      ]
    },
    {
      "cell_type": "code",
      "source": [
        "# Array properties\n",
        "arr=np.array(([1,2,3,4],[2,3,4,5]))\n",
        "print(arr)\n",
        "# Shape of the array\n",
        "print(f'The shape of the array is {arr.shape}')\n",
        "# Size of array\n",
        "print(f'The size of the array is {arr.size}')\n",
        "#Datatype of array\n",
        "print(f'The Data type of the array is {arr.dtype}')\n",
        "#Dimensions of array\n",
        "print(f'The Dimension of the array is {arr.ndim}')"
      ],
      "metadata": {
        "colab": {
          "base_uri": "https://localhost:8080/"
        },
        "id": "aZeZMLd36aCp",
        "outputId": "f2a2ca6a-cf30-4c39-8553-f82702e774cc"
      },
      "execution_count": 33,
      "outputs": [
        {
          "output_type": "stream",
          "name": "stdout",
          "text": [
            "[[1 2 3 4]\n",
            " [2 3 4 5]]\n",
            "The shape of the array is (2, 4)\n",
            "The size of the array is 8\n",
            "The Data type of the array is int64\n",
            "The Dimension of the array is 2\n"
          ]
        }
      ]
    },
    {
      "cell_type": "code",
      "source": [
        "# Indexing and Slicing\n",
        "\n",
        "# Access the elements in 1D Array\n",
        "\n",
        "arr =np.array([1,2,3,4])\n",
        "print(arr)\n",
        "print(arr[3])\n",
        "\n",
        "# Slicing the elements\n",
        "print(arr[0:3])\n",
        "\n",
        "# Access the elements in 2D Array\n",
        "arr2 = np.array(([1,2,3],[2,3,4]))\n",
        "print(arr2)\n",
        "print(arr2[1,1])\n",
        "print(arr2[0,:])#first row with all colums\n",
        "print(arr2[:,0])#first columns with all rows"
      ],
      "metadata": {
        "colab": {
          "base_uri": "https://localhost:8080/"
        },
        "id": "zkBHrOaU9ZVA",
        "outputId": "24e5f4fd-148b-422d-fbe2-b6c890cf6e97"
      },
      "execution_count": 45,
      "outputs": [
        {
          "output_type": "stream",
          "name": "stdout",
          "text": [
            "[1 2 3 4]\n",
            "4\n",
            "[1 2 3]\n",
            "[[1 2 3]\n",
            " [2 3 4]]\n",
            "3\n",
            "[1 2 3]\n",
            "[1 2]\n"
          ]
        }
      ]
    },
    {
      "cell_type": "code",
      "source": [
        "#l1=[]\n",
        "#[l1.append(_) for _ in range(10)]\n",
        "\n",
        "l1=np.arange(10,-10,-3)\n",
        "print(l1)"
      ],
      "metadata": {
        "colab": {
          "base_uri": "https://localhost:8080/"
        },
        "id": "ORFiU3XVAp-p",
        "outputId": "4a2d495d-8db5-4c8b-c695-2368b62bebd6"
      },
      "execution_count": 56,
      "outputs": [
        {
          "output_type": "stream",
          "name": "stdout",
          "text": [
            "[10  7  4  1 -2 -5 -8]\n"
          ]
        }
      ]
    },
    {
      "cell_type": "code",
      "source": [
        "#Mathematcial operations\n",
        "a=np.array([1,2,3])\n",
        "b=np.array([3,4,5])\n",
        "print(f'The sum of a and b is {a+b}')\n",
        "print(f'The diff of a and b is {a-b}')\n",
        "print(f'The product of a and b is {a*b}')\n",
        "print(f'The division of a and b is {a/b}')"
      ],
      "metadata": {
        "colab": {
          "base_uri": "https://localhost:8080/"
        },
        "id": "cwa77FRADfj-",
        "outputId": "2de7c99f-5348-4101-a814-cb207853b8f6"
      },
      "execution_count": 63,
      "outputs": [
        {
          "output_type": "stream",
          "name": "stdout",
          "text": [
            "The sum of a and b is [4 6 8]\n",
            "The diff of a and b is [-2 -2 -2]\n",
            "The product of a and b is [ 3  8 15]\n",
            "The division of a and b is [0.33333333 0.5        0.6       ]\n"
          ]
        }
      ]
    },
    {
      "cell_type": "code",
      "source": [
        "#Matrix multiplication\n",
        "b1=np.array([[1,2,3],[2,3,4]])\n",
        "b2=np.array([[5,6],[7,8],[1,3]])\n",
        "\n",
        "#Dot product ---- product=A M×n ----B n *p\n",
        "c=np.dot(b1,b2)\n",
        "print(c)"
      ],
      "metadata": {
        "id": "1gLzfNKhD1Wn",
        "outputId": "2dc511d4-b516-41dd-9bf9-3db664ab2a37",
        "colab": {
          "base_uri": "https://localhost:8080/"
        }
      },
      "execution_count": 68,
      "outputs": [
        {
          "output_type": "stream",
          "name": "stdout",
          "text": [
            "[[22 31]\n",
            " [35 48]]\n"
          ]
        }
      ]
    },
    {
      "cell_type": "code",
      "source": [
        "print(b2)"
      ],
      "metadata": {
        "id": "Sp7bTw1fE0dp",
        "outputId": "1a761832-3313-4e7b-f935-07807754c1f4",
        "colab": {
          "base_uri": "https://localhost:8080/"
        }
      },
      "execution_count": 69,
      "outputs": [
        {
          "output_type": "stream",
          "name": "stdout",
          "text": [
            "[[5 6]\n",
            " [7 8]\n",
            " [1 3]]\n"
          ]
        }
      ]
    }
  ]
}